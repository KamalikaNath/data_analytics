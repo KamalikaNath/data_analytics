{
  "cells": [
    {
      "cell_type": "markdown",
      "metadata": {
        "id": "view-in-github",
        "colab_type": "text"
      },
      "source": [
        "<a href=\"https://colab.research.google.com/github/KamalikaNath/data_analytics/blob/main/data_analytics.ipynb\" target=\"_parent\"><img src=\"https://colab.research.google.com/assets/colab-badge.svg\" alt=\"Open In Colab\"/></a>"
      ]
    },
    {
      "cell_type": "code",
      "execution_count": null,
      "id": "759abea5",
      "metadata": {
        "id": "759abea5",
        "outputId": "50dc82f8-992b-4078-cf06-966eb853e889"
      },
      "outputs": [
        {
          "name": "stdout",
          "output_type": "stream",
          "text": [
            "     Language  CI  Course  Type  Size  Score\n",
            "0           1  23       3     1    19      3\n",
            "1           2  15       3     1    17      3\n",
            "2           1  23       3     2    49      3\n",
            "3           1   5       2     2    33      3\n",
            "4           2   7      11     2    55      3\n",
            "..        ...  ..     ...   ...   ...    ...\n",
            "146         2   3       2     2    26      1\n",
            "147         2  10       3     2    12      1\n",
            "148         1  18       7     2    48      1\n",
            "149         2  22       1     2    51      1\n",
            "150         2   2      10     2    27      1\n",
            "\n",
            "[151 rows x 6 columns]\n"
          ]
        }
      ],
      "source": [
        "import pandas as pd\n",
        "df=pd.read_csv('data.csv')\n",
        "print(df)"
      ]
    },
    {
      "cell_type": "markdown",
      "id": "d5b48306",
      "metadata": {
        "id": "d5b48306"
      },
      "source": [
        "Perform exploratory data analysis (EDA) using tools like pandas, numpy, and matplotlib"
      ]
    },
    {
      "cell_type": "code",
      "execution_count": null,
      "id": "f52b305d",
      "metadata": {
        "id": "f52b305d",
        "outputId": "0695e194-9826-4eae-c88c-bfa5c7588ceb"
      },
      "outputs": [
        {
          "name": "stdout",
          "output_type": "stream",
          "text": [
            "<class 'pandas.core.frame.DataFrame'>\n",
            "RangeIndex: 151 entries, 0 to 150\n",
            "Data columns (total 6 columns):\n",
            " #   Column    Non-Null Count  Dtype\n",
            "---  ------    --------------  -----\n",
            " 0   Language  151 non-null    int64\n",
            " 1   CI        151 non-null    int64\n",
            " 2   Course    151 non-null    int64\n",
            " 3   Type      151 non-null    int64\n",
            " 4   Size      151 non-null    int64\n",
            " 5   Score     151 non-null    int64\n",
            "dtypes: int64(6)\n",
            "memory usage: 7.2 KB\n",
            "None\n"
          ]
        }
      ],
      "source": [
        "print(df.info())\n"
      ]
    },
    {
      "cell_type": "code",
      "execution_count": null,
      "id": "cff06960",
      "metadata": {
        "id": "cff06960",
        "outputId": "14b43deb-8112-4493-dc65-923b0491afb7"
      },
      "outputs": [
        {
          "name": "stdout",
          "output_type": "stream",
          "text": [
            "   Language  CI  Course  Type  Size  Score\n",
            "0         1  23       3     1    19      3\n",
            "1         2  15       3     1    17      3\n",
            "2         1  23       3     2    49      3\n",
            "3         1   5       2     2    33      3\n",
            "4         2   7      11     2    55      3\n",
            "     Language  CI  Course  Type  Size  Score\n",
            "146         2   3       2     2    26      1\n",
            "147         2  10       3     2    12      1\n",
            "148         1  18       7     2    48      1\n",
            "149         2  22       1     2    51      1\n",
            "150         2   2      10     2    27      1\n",
            "         Language          CI      Course        Type        Size       Score\n",
            "count  151.000000  151.000000  151.000000  151.000000  151.000000  151.000000\n",
            "mean     1.807947   13.642384    8.105960    1.847682   27.867550    2.019868\n",
            "std      0.395225    6.825779    7.023914    0.360525   12.893758    0.820327\n",
            "min      1.000000    1.000000    1.000000    1.000000    3.000000    1.000000\n",
            "25%      2.000000    8.000000    3.000000    2.000000   19.000000    1.000000\n",
            "50%      2.000000   13.000000    4.000000    2.000000   27.000000    2.000000\n",
            "75%      2.000000   20.000000   15.000000    2.000000   37.000000    3.000000\n",
            "max      2.000000   25.000000   26.000000    2.000000   66.000000    3.000000\n"
          ]
        }
      ],
      "source": [
        "print(df.head())\n",
        "print(df.tail())\n",
        "print(df.describe())\n"
      ]
    },
    {
      "cell_type": "code",
      "execution_count": null,
      "id": "a6206e65",
      "metadata": {
        "id": "a6206e65",
        "outputId": "c78e0a48-6f7e-445b-d9ac-30d93f344e5e"
      },
      "outputs": [
        {
          "name": "stdout",
          "output_type": "stream",
          "text": [
            "Language    0\n",
            "CI          0\n",
            "Course      0\n",
            "Type        0\n",
            "Size        0\n",
            "Score       0\n",
            "dtype: int64\n"
          ]
        }
      ],
      "source": [
        "print(df.isna().sum())\n"
      ]
    },
    {
      "cell_type": "code",
      "execution_count": null,
      "id": "65270570",
      "metadata": {
        "id": "65270570",
        "outputId": "b7b330a2-3b26-411f-b19c-5faed069c1fb"
      },
      "outputs": [
        {
          "data": {
            "text/plain": [
              "(array([10.,  8., 24., 16.,  5., 30.,  8., 14., 14., 22.]),\n",
              " array([ 1. ,  3.4,  5.8,  8.2, 10.6, 13. , 15.4, 17.8, 20.2, 22.6, 25. ]),\n",
              " <BarContainer object of 10 artists>)"
            ]
          },
          "execution_count": 13,
          "metadata": {},
          "output_type": "execute_result"
        },
        {
          "data": {
            "image/png": "[encoded data removed]",
            "text/plain": [
              "<Figure size 640x480 with 1 Axes>"
            ]
          },
          "metadata": {},
          "output_type": "display_data"
        }
      ],
      "source": [
        "import matplotlib.pyplot as plt\n",
        "\n",
        "# Histogram of a column\n",
        "plt.hist(df['CI'])"
      ]
    },
    {
      "cell_type": "code",
      "execution_count": null,
      "id": "43cad2cf",
      "metadata": {
        "id": "43cad2cf",
        "outputId": "e7d6e3a2-6a50-4771-b05d-fa77adb3efad"
      },
      "outputs": [
        {
          "data": {
            "text/plain": [
              "<matplotlib.collections.PathCollection at 0x27eef305250>"
            ]
          },
          "execution_count": 14,
          "metadata": {},
          "output_type": "execute_result"
        },
        {
          "data": {
            "image/png": "[encoded data removed]",
            "text/plain": [
              "<Figure size 640x480 with 1 Axes>"
            ]
          },
          "metadata": {},
          "output_type": "display_data"
        }
      ],
      "source": [
        "# Scatter plot of two columns\n",
        "plt.scatter(df['CI'], df['CI'])"
      ]
    },
    {
      "cell_type": "code",
      "execution_count": null,
      "id": "94ef6078",
      "metadata": {
        "id": "94ef6078",
        "outputId": "b13e3b5b-46c7-4e97-c945-fea8dd219a5f"
      },
      "outputs": [
        {
          "data": {
            "text/plain": [
              "{'whiskers': [<matplotlib.lines.Line2D at 0x27eef364880>,\n",
              "  <matplotlib.lines.Line2D at 0x27eef364c70>],\n",
              " 'caps': [<matplotlib.lines.Line2D at 0x27eef364f40>,\n",
              "  <matplotlib.lines.Line2D at 0x27eef376250>],\n",
              " 'boxes': [<matplotlib.lines.Line2D at 0x27eef3648b0>],\n",
              " 'medians': [<matplotlib.lines.Line2D at 0x27eef376520>],\n",
              " 'fliers': [<matplotlib.lines.Line2D at 0x27eef3767f0>],\n",
              " 'means': []}"
            ]
          },
          "execution_count": 15,
          "metadata": {},
          "output_type": "execute_result"
        },
        {
          "data": {
            "image/png": "[encoded data removed]",
            "text/plain": [
              "<Figure size 640x480 with 1 Axes>"
            ]
          },
          "metadata": {},
          "output_type": "display_data"
        }
      ],
      "source": [
        "# Box plot of a column\n",
        "plt.boxplot(df['CI'])"
      ]
    },
    {
      "cell_type": "code",
      "execution_count": null,
      "id": "e5276540",
      "metadata": {
        "id": "e5276540",
        "outputId": "4932135f-e9ad-49a2-f1f7-d6f2502b4a0e"
      },
      "outputs": [
        {
          "data": {
            "text/plain": [
              "{'whiskers': [<matplotlib.lines.Line2D at 0x27eef4889d0>,\n",
              "  <matplotlib.lines.Line2D at 0x27eef488ca0>],\n",
              " 'caps': [<matplotlib.lines.Line2D at 0x27eef488f70>,\n",
              "  <matplotlib.lines.Line2D at 0x27eef498280>],\n",
              " 'boxes': [<matplotlib.lines.Line2D at 0x27eef488700>],\n",
              " 'medians': [<matplotlib.lines.Line2D at 0x27eef498550>],\n",
              " 'fliers': [<matplotlib.lines.Line2D at 0x27eef498820>],\n",
              " 'means': []}"
            ]
          },
          "execution_count": 16,
          "metadata": {},
          "output_type": "execute_result"
        },
        {
          "data": {
            "image/png": "[encoded data removed]",
            "text/plain": [
              "<Figure size 640x480 with 1 Axes>"
            ]
          },
          "metadata": {},
          "output_type": "display_data"
        }
      ],
      "source": [
        "# Box plot of a column\n",
        "plt.boxplot(df['Size'])"
      ]
    },
    {
      "cell_type": "code",
      "execution_count": null,
      "id": "ca719797",
      "metadata": {
        "id": "ca719797",
        "outputId": "1c9515d4-9711-4476-b162-7a207906f1f1"
      },
      "outputs": [
        {
          "data": {
            "text/plain": [
              "<AxesSubplot:>"
            ]
          },
          "execution_count": 17,
          "metadata": {},
          "output_type": "execute_result"
        },
        {
          "data": {
            "image/png": "[encoded data removed]",
            "text/plain": [
              "<Figure size 640x480 with 2 Axes>"
            ]
          },
          "metadata": {},
          "output_type": "display_data"
        }
      ],
      "source": [
        "import seaborn as sns\n",
        "\n",
        "# Calculate correlation matrix\n",
        "corr_matrix = df.corr()\n",
        "\n",
        "# Visualize correlation matrix using heatmap\n",
        "sns.heatmap(corr_matrix, annot=True)\n"
      ]
    },
    {
      "cell_type": "markdown",
      "id": "3ffbe171",
      "metadata": {
        "id": "3ffbe171"
      },
      "source": [
        "# Preprocess the data by cleaning, handling missing values, and transforming it into a suitable format for machine learning algorithms. Feature engineering can also be performed."
      ]
    },
    {
      "cell_type": "code",
      "execution_count": null,
      "id": "a19fe433",
      "metadata": {
        "id": "a19fe433"
      },
      "outputs": [],
      "source": [
        "from numpy import loadtxt\n",
        "from keras.models import Sequential\n",
        "from keras.layers import Dense\n",
        "from sklearn import svm, datasets\n",
        "import sklearn.model_selection as model_selection\n",
        "from sklearn.metrics import accuracy_score\n",
        "from sklearn.metrics import f1_score\n",
        "\n",
        "import matplotlib.pyplot as plt\n",
        "\n",
        "from sklearn import svm, datasets\n",
        "from sklearn.model_selection import train_test_split\n",
        "from sklearn.metrics import ConfusionMatrixDisplay\n",
        "import numpy as np\n",
        "import pandas as pd\n",
        "import matplotlib.pyplot as plt\n",
        "import matplotlib.colors as colors\n",
        "from sklearn.utils import resample\n",
        "from sklearn.model_selection import train_test_split\n",
        "from sklearn.preprocessing import scale\n",
        "from sklearn.svm import SVC\n",
        "from sklearn.model_selection import GridSearchCV\n",
        "from sklearn.metrics import confusion_matrix\n",
        "from sklearn.metrics import plot_confusion_matrix\n",
        "from sklearn.decomposition import PCA\n",
        "from sklearn.metrics import accuracy_score\n"
      ]
    },
    {
      "cell_type": "code",
      "execution_count": null,
      "id": "0a688b6c",
      "metadata": {
        "id": "0a688b6c",
        "outputId": "f0f0fcf3-f535-482c-def8-5fb543fc5b64"
      },
      "outputs": [
        {
          "name": "stdout",
          "output_type": "stream",
          "text": [
            "Collecting bioinfokit\n",
            "  Downloading bioinfokit-2.1.0.tar.gz (86 kB)\n",
            "     -------------------------------------- 87.0/87.0 kB 971.4 kB/s eta 0:00:00\n",
            "  Preparing metadata (setup.py): started\n",
            "  Preparing metadata (setup.py): finished with status 'done'\n",
            "Requirement already satisfied: pandas in c:\\users\\himadri roy\\anaconda3\\lib\\site-packages (from bioinfokit) (1.4.4)\n",
            "Requirement already satisfied: numpy in c:\\users\\himadri roy\\anaconda3\\lib\\site-packages (from bioinfokit) (1.21.5)\n",
            "Requirement already satisfied: matplotlib in c:\\users\\himadri roy\\anaconda3\\lib\\site-packages (from bioinfokit) (3.5.2)\n",
            "Requirement already satisfied: scipy in c:\\users\\himadri roy\\anaconda3\\lib\\site-packages (from bioinfokit) (1.7.3)\n",
            "Requirement already satisfied: scikit-learn in c:\\users\\himadri roy\\anaconda3\\lib\\site-packages (from bioinfokit) (1.0.2)\n",
            "Requirement already satisfied: seaborn in c:\\users\\himadri roy\\anaconda3\\lib\\site-packages (from bioinfokit) (0.11.2)\n",
            "Collecting matplotlib-venn\n",
            "  Downloading matplotlib-venn-0.11.9.tar.gz (30 kB)\n",
            "  Installing build dependencies: started\n",
            "  Installing build dependencies: finished with status 'done'\n",
            "  Getting requirements to build wheel: started\n",
            "  Getting requirements to build wheel: finished with status 'done'\n",
            "  Installing backend dependencies: started\n",
            "  Installing backend dependencies: finished with status 'done'\n",
            "  Preparing metadata (pyproject.toml): started\n",
            "  Preparing metadata (pyproject.toml): finished with status 'done'\n",
            "Requirement already satisfied: tabulate in c:\\users\\himadri roy\\anaconda3\\lib\\site-packages (from bioinfokit) (0.8.10)\n",
            "Requirement already satisfied: statsmodels in c:\\users\\himadri roy\\anaconda3\\lib\\site-packages (from bioinfokit) (0.12.2)\n",
            "Collecting textwrap3\n",
            "  Downloading textwrap3-0.9.2-py2.py3-none-any.whl (12 kB)\n",
            "Collecting adjustText\n",
            "  Downloading adjustText-0.8-py3-none-any.whl (9.1 kB)\n",
            "Requirement already satisfied: python-dateutil>=2.7 in c:\\users\\himadri roy\\anaconda3\\lib\\site-packages (from matplotlib->bioinfokit) (2.8.2)\n",
            "Requirement already satisfied: pillow>=6.2.0 in c:\\users\\himadri roy\\anaconda3\\lib\\site-packages (from matplotlib->bioinfokit) (9.2.0)\n",
            "Requirement already satisfied: fonttools>=4.22.0 in c:\\users\\himadri roy\\anaconda3\\lib\\site-packages (from matplotlib->bioinfokit) (4.25.0)\n",
            "Requirement already satisfied: kiwisolver>=1.0.1 in c:\\users\\himadri roy\\anaconda3\\lib\\site-packages (from matplotlib->bioinfokit) (1.4.2)\n",
            "Requirement already satisfied: cycler>=0.10 in c:\\users\\himadri roy\\anaconda3\\lib\\site-packages (from matplotlib->bioinfokit) (0.11.0)\n",
            "Requirement already satisfied: packaging>=20.0 in c:\\users\\himadri roy\\anaconda3\\lib\\site-packages (from matplotlib->bioinfokit) (21.3)\n",
            "Requirement already satisfied: pyparsing>=2.2.1 in c:\\users\\himadri roy\\anaconda3\\lib\\site-packages (from matplotlib->bioinfokit) (3.0.9)\n",
            "Requirement already satisfied: pytz>=2020.1 in c:\\users\\himadri roy\\anaconda3\\lib\\site-packages (from pandas->bioinfokit) (2022.1)\n",
            "Requirement already satisfied: joblib>=0.11 in c:\\users\\himadri roy\\anaconda3\\lib\\site-packages (from scikit-learn->bioinfokit) (1.1.0)\n",
            "Requirement already satisfied: threadpoolctl>=2.0.0 in c:\\users\\himadri roy\\anaconda3\\lib\\site-packages (from scikit-learn->bioinfokit) (2.2.0)\n",
            "Requirement already satisfied: patsy>=0.5 in c:\\users\\himadri roy\\anaconda3\\lib\\site-packages (from statsmodels->bioinfokit) (0.5.2)\n",
            "Requirement already satisfied: six in c:\\users\\himadri roy\\anaconda3\\lib\\site-packages (from patsy>=0.5->statsmodels->bioinfokit) (1.16.0)\n",
            "Building wheels for collected packages: bioinfokit, matplotlib-venn\n",
            "  Building wheel for bioinfokit (setup.py): started\n",
            "  Building wheel for bioinfokit (setup.py): finished with status 'done'\n",
            "  Created wheel for bioinfokit: filename=bioinfokit-2.1.0-py3-none-any.whl size=58669 sha256=cbe96b6d484c5835b7e07e8b7b0e2b03fdff38f2496f384158e89e715a109c76\n",
            "  Stored in directory: c:\\users\\himadri roy\\appdata\\local\\pip\\cache\\wheels\\c9\\ab\\ed\\8a7fde0a63653b75ac029d67598265d185e5915dfb594ddc59\n",
            "  Building wheel for matplotlib-venn (pyproject.toml): started\n",
            "  Building wheel for matplotlib-venn (pyproject.toml): finished with status 'done'\n",
            "  Created wheel for matplotlib-venn: filename=matplotlib_venn-0.11.9-py3-none-any.whl size=33038 sha256=9ed4d5eb581a52d5120b6502a780469fd15366aa285669cd9b94ea28f9f1cf76\n",
            "  Stored in directory: c:\\users\\himadri roy\\appdata\\local\\pip\\cache\\wheels\\25\\de\\d4\\29dfc5d4520b956df7bc54a8464ad053042918bc525e88bf66\n",
            "Successfully built bioinfokit matplotlib-venn\n",
            "Installing collected packages: textwrap3, matplotlib-venn, adjustText, bioinfokit\n",
            "Successfully installed adjustText-0.8 bioinfokit-2.1.0 matplotlib-venn-0.11.9 textwrap3-0.9.2\n"
          ]
        },
        {
          "name": "stderr",
          "output_type": "stream",
          "text": [
            "WARNING: Ignoring invalid distribution -cipy (c:\\users\\himadri roy\\anaconda3\\lib\\site-packages)\n",
            "WARNING: Ignoring invalid distribution -cipy (c:\\users\\himadri roy\\anaconda3\\lib\\site-packages)\n",
            "WARNING: Ignoring invalid distribution -cipy (c:\\users\\himadri roy\\anaconda3\\lib\\site-packages)\n",
            "WARNING: Ignoring invalid distribution -cipy (c:\\users\\himadri roy\\anaconda3\\lib\\site-packages)\n",
            "WARNING: Ignoring invalid distribution -cipy (c:\\users\\himadri roy\\anaconda3\\lib\\site-packages)\n",
            "WARNING: Ignoring invalid distribution -cipy (c:\\users\\himadri roy\\anaconda3\\lib\\site-packages)\n",
            "WARNING: Ignoring invalid distribution -cipy (c:\\users\\himadri roy\\anaconda3\\lib\\site-packages)\n",
            "WARNING: Ignoring invalid distribution -cipy (c:\\users\\himadri roy\\anaconda3\\lib\\site-packages)\n",
            "WARNING: Ignoring invalid distribution -cipy (c:\\users\\himadri roy\\anaconda3\\lib\\site-packages)\n",
            "WARNING: Ignoring invalid distribution -cipy (c:\\users\\himadri roy\\anaconda3\\lib\\site-packages)\n"
          ]
        }
      ],
      "source": [
        "!pip install bioinfokit"
      ]
    },
    {
      "cell_type": "code",
      "execution_count": null,
      "id": "c9d55abe",
      "metadata": {
        "id": "c9d55abe"
      },
      "outputs": [],
      "source": [
        "from bioinfokit.visuz import cluster"
      ]
    },
    {
      "cell_type": "code",
      "execution_count": null,
      "id": "9d5e364b",
      "metadata": {
        "id": "9d5e364b"
      },
      "outputs": [],
      "source": [
        "from sklearn.decomposition import PCA\n",
        "from sklearn.preprocessing import StandardScaler"
      ]
    },
    {
      "cell_type": "code",
      "execution_count": null,
      "id": "701397e7",
      "metadata": {
        "id": "701397e7",
        "outputId": "a12cee04-bfe1-4234-f470-56d58468d15f"
      },
      "outputs": [
        {
          "name": "stderr",
          "output_type": "stream",
          "text": [
            "C:\\Users\\Himadri Roy\\anaconda3\\lib\\site-packages\\statsmodels\\tsa\\base\\tsa_model.py:7: FutureWarning: pandas.Int64Index is deprecated and will be removed from pandas in a future version. Use pandas.Index with the appropriate dtype instead.\n",
            "  from pandas import (to_datetime, Int64Index, DatetimeIndex, Period,\n",
            "C:\\Users\\Himadri Roy\\anaconda3\\lib\\site-packages\\statsmodels\\tsa\\base\\tsa_model.py:7: FutureWarning: pandas.Float64Index is deprecated and will be removed from pandas in a future version. Use pandas.Index with the appropriate dtype instead.\n",
            "  from pandas import (to_datetime, Int64Index, DatetimeIndex, Period,\n"
          ]
        }
      ],
      "source": [
        "from sklearn.decomposition import PCA\n",
        "from sklearn.preprocessing import StandardScaler\n",
        "from bioinfokit.analys import get_data\n",
        "from bioinfokit.visuz import cluster"
      ]
    },
    {
      "cell_type": "code",
      "execution_count": null,
      "id": "30f7fabd",
      "metadata": {
        "id": "30f7fabd"
      },
      "outputs": [],
      "source": [
        "X=data.iloc[:, :5].values"
      ]
    },
    {
      "cell_type": "code",
      "execution_count": null,
      "id": "c0c42375",
      "metadata": {
        "id": "c0c42375"
      },
      "outputs": [],
      "source": [
        "Y=data.iloc[:,-1].values"
      ]
    },
    {
      "cell_type": "markdown",
      "id": "21e30371",
      "metadata": {
        "id": "21e30371"
      },
      "source": [
        "# Split the preprocessed data into training and testing sets."
      ]
    },
    {
      "cell_type": "code",
      "execution_count": null,
      "id": "048a2c19",
      "metadata": {
        "id": "048a2c19"
      },
      "outputs": [],
      "source": [
        "# Split the dataset into training and testing sets\n",
        "X_train, X_test, y_train, y_test = train_test_split(X, Y, test_size=0.2, random_state=42)\n",
        "# Scale the features\n",
        "scaler = StandardScaler()\n",
        "X_train_scaled = scaler.fit_transform(X_train)\n",
        "X_test_scaled = scaler.transform(X_test)"
      ]
    },
    {
      "cell_type": "markdown",
      "id": "e2b5939b",
      "metadata": {
        "id": "e2b5939b"
      },
      "source": [
        "# Logistic regression"
      ]
    },
    {
      "cell_type": "code",
      "execution_count": null,
      "id": "459d84bf",
      "metadata": {
        "id": "459d84bf"
      },
      "outputs": [],
      "source": [
        "from sklearn.linear_model import LogisticRegression\n",
        "\n",
        "# Create a logistic regression classifier\n",
        "clf = LogisticRegression(multi_class='ovr', max_iter=10000)"
      ]
    },
    {
      "cell_type": "code",
      "execution_count": null,
      "id": "00190fe2",
      "metadata": {
        "id": "00190fe2"
      },
      "outputs": [],
      "source": [
        "import pandas as pd\n",
        "import numpy as np\n",
        "import matplotlib.pyplot as plt\n",
        "from sklearn import datasets\n",
        "from sklearn import model_selection\n",
        "from sklearn import linear_model\n",
        "from sklearn import metrics"
      ]
    },
    {
      "cell_type": "code",
      "execution_count": null,
      "id": "08a708f7",
      "metadata": {
        "id": "08a708f7",
        "outputId": "537eee30-7705-442c-9fa1-dc8a26e527b1"
      },
      "outputs": [
        {
          "data": {
            "text/plain": [
              "LogisticRegression(multi_class='ovr', solver='liblinear')"
            ]
          },
          "execution_count": 56,
          "metadata": {},
          "output_type": "execute_result"
        }
      ],
      "source": [
        "lm = linear_model.LogisticRegression(multi_class='ovr', solver='liblinear')\n",
        "lm.fit(X_train_scaled, y_train)"
      ]
    },
    {
      "cell_type": "markdown",
      "id": "bc89aad4",
      "metadata": {
        "id": "bc89aad4"
      },
      "source": [
        "Testing The Model"
      ]
    },
    {
      "cell_type": "code",
      "execution_count": null,
      "id": "c92d09bb",
      "metadata": {
        "id": "c92d09bb",
        "outputId": "aed5ee0a-9252-4dab-d11e-4e78572e339d"
      },
      "outputs": [
        {
          "data": {
            "text/plain": [
              "0.3870967741935484"
            ]
          },
          "execution_count": 57,
          "metadata": {},
          "output_type": "execute_result"
        }
      ],
      "source": [
        "lm.score(X_test, y_test)"
      ]
    },
    {
      "cell_type": "code",
      "execution_count": null,
      "id": "e2f25038",
      "metadata": {
        "id": "e2f25038",
        "outputId": "1998526a-106a-4892-f6ea-d483490f3eca"
      },
      "outputs": [
        {
          "name": "stderr",
          "output_type": "stream",
          "text": [
            "C:\\Users\\Himadri Roy\\anaconda3\\lib\\site-packages\\sklearn\\utils\\deprecation.py:87: FutureWarning: Function plot_confusion_matrix is deprecated; Function `plot_confusion_matrix` is deprecated in 1.0 and will be removed in 1.2. Use one of the class methods: ConfusionMatrixDisplay.from_predictions or ConfusionMatrixDisplay.from_estimator.\n",
            "  warnings.warn(msg, category=FutureWarning)\n"
          ]
        },
        {
          "data": {
            "text/plain": [
              "<sklearn.metrics._plot.confusion_matrix.ConfusionMatrixDisplay at 0x27e8a901190>"
            ]
          },
          "execution_count": 61,
          "metadata": {},
          "output_type": "execute_result"
        },
        {
          "data": {
            "image/png": "[encoded data removed]",
            "text/plain": [
              "<Figure size 640x480 with 2 Axes>"
            ]
          },
          "metadata": {},
          "output_type": "display_data"
        }
      ],
      "source": [
        "plot_confusion_matrix(lm, X_train_scaled, y_train, values_format='d', display_labels=[\"High\", \"Medium\", \"Low\"])"
      ]
    },
    {
      "cell_type": "code",
      "execution_count": null,
      "id": "de30770d",
      "metadata": {
        "id": "de30770d",
        "outputId": "b13a9e10-7179-405f-98eb-237801693054"
      },
      "outputs": [
        {
          "name": "stderr",
          "output_type": "stream",
          "text": [
            "C:\\Users\\Himadri Roy\\anaconda3\\lib\\site-packages\\sklearn\\utils\\deprecation.py:87: FutureWarning: Function plot_confusion_matrix is deprecated; Function `plot_confusion_matrix` is deprecated in 1.0 and will be removed in 1.2. Use one of the class methods: ConfusionMatrixDisplay.from_predictions or ConfusionMatrixDisplay.from_estimator.\n",
            "  warnings.warn(msg, category=FutureWarning)\n"
          ]
        },
        {
          "data": {
            "text/plain": [
              "array([[8, 3, 0],\n",
              "       [5, 5, 1],\n",
              "       [2, 2, 5]], dtype=int64)"
            ]
          },
          "execution_count": 62,
          "metadata": {},
          "output_type": "execute_result"
        },
        {
          "data": {
            "image/png": "[encoded data removed]",
            "text/plain": [
              "<Figure size 1000x600 with 2 Axes>"
            ]
          },
          "metadata": {},
          "output_type": "display_data"
        }
      ],
      "source": [
        "#Creating matplotlib axes object to assign figuresize and figure title\n",
        "fig, ax = plt.subplots(figsize=(10, 6))\n",
        "ax.set_title('Confusion Matrx')\n",
        "\n",
        "disp =metrics.plot_confusion_matrix(lm, X_test_scaled, y_test, display_labels=[\"High\", \"Medium\", \"Low\"] , ax = ax)\n",
        "disp.confusion_matrix"
      ]
    },
    {
      "cell_type": "code",
      "execution_count": null,
      "id": "7cb3b47f",
      "metadata": {
        "scrolled": true,
        "id": "7cb3b47f",
        "outputId": "77a34d20-3f15-4477-d84c-05439753e7cf"
      },
      "outputs": [
        {
          "name": "stdout",
          "output_type": "stream",
          "text": [
            "              precision    recall  f1-score   support\n",
            "\n",
            "           S       0.53      0.73      0.62        11\n",
            "           c       0.50      0.45      0.48        11\n",
            "           o       0.83      0.56      0.67         9\n",
            "\n",
            "    accuracy                           0.58        31\n",
            "   macro avg       0.62      0.58      0.59        31\n",
            "weighted avg       0.61      0.58      0.58        31\n",
            "\n"
          ]
        },
        {
          "name": "stderr",
          "output_type": "stream",
          "text": [
            "C:\\Users\\Himadri Roy\\anaconda3\\lib\\site-packages\\sklearn\\metrics\\_classification.py:2126: UserWarning: labels size, 3, does not match size of target_names, 5\n",
            "  warnings.warn(\n"
          ]
        }
      ],
      "source": [
        "from sklearn.metrics import classification_report\n",
        "\n",
        "# Fit the classifier to the training data\n",
        "clf.fit(X_train_scaled, y_train)\n",
        "\n",
        "# Make predictions on the test data\n",
        "y_pred = clf.predict(X_test_scaled)\n",
        "\n",
        "# Print the classification report\n",
        "#print(classification_report(y_test, y_pred, target_names='Score'))\n",
        "\n",
        "\n",
        "from sklearn.metrics import classification_report\n",
        "\n",
        "# Assume y_true and y_pred are the true and predicted class labels\n",
        "target_names = ['class 1', 'class 2', 'class 3']\n",
        "print(classification_report(y_test, y_pred, target_names='Score', labels=[1, 2, 3]))\n"
      ]
    },
    {
      "cell_type": "code",
      "execution_count": null,
      "id": "4926e3be",
      "metadata": {
        "id": "4926e3be",
        "outputId": "02e95ae9-8f45-480c-9722-233f8584eaf6"
      },
      "outputs": [
        {
          "data": {
            "text/plain": [
              "0.5806451612903226"
            ]
          },
          "execution_count": 64,
          "metadata": {},
          "output_type": "execute_result"
        }
      ],
      "source": [
        "lm.score(X_test_scaled, y_test)"
      ]
    },
    {
      "cell_type": "markdown",
      "id": "0a4cee2f",
      "metadata": {
        "id": "0a4cee2f"
      },
      "source": [
        "# SVM"
      ]
    },
    {
      "cell_type": "markdown",
      "id": "12a9777b",
      "metadata": {
        "id": "12a9777b"
      },
      "source": [
        "Using linear karnel"
      ]
    },
    {
      "cell_type": "code",
      "execution_count": null,
      "id": "132fb233",
      "metadata": {
        "id": "132fb233",
        "outputId": "7d98c4a0-ad24-4c76-bb69-3ddece4260f0"
      },
      "outputs": [
        {
          "name": "stdout",
          "output_type": "stream",
          "text": [
            "Accuracy: 0.5806451612903226\n"
          ]
        }
      ],
      "source": [
        "# Create SVM classifier with a linear kernel\n",
        "svm = SVC(kernel='linear')\n",
        "\n",
        "# Train the SVM classifier on the training data\n",
        "svm.fit(X_train_scaled, y_train)\n",
        "\n",
        "# Make predictions on the testing data\n",
        "y_pred = svm.predict(X_test_scaled)\n",
        "\n",
        "# Calculate the accuracy of the classifier\n",
        "accuracy = accuracy_score(y_test, y_pred)\n",
        "\n",
        "# Print the accuracy of the classifier\n",
        "print(\"Accuracy:\", accuracy)"
      ]
    },
    {
      "cell_type": "markdown",
      "id": "1eb4e267",
      "metadata": {
        "id": "1eb4e267"
      },
      "source": [
        "Using polynomial Karnel"
      ]
    },
    {
      "cell_type": "code",
      "execution_count": null,
      "id": "a9373de6",
      "metadata": {
        "id": "a9373de6",
        "outputId": "021bf2c9-a41c-468e-8d10-f74b92ee534f"
      },
      "outputs": [
        {
          "name": "stdout",
          "output_type": "stream",
          "text": [
            "Accuracy: 0.5161290322580645\n"
          ]
        }
      ],
      "source": [
        "# Create SVM classifier with a polynomial kernel\n",
        "svm = SVC(kernel='poly', degree=3)\n",
        "\n",
        "# Train the SVM classifier on the training data\n",
        "svm.fit(X_train_scaled, y_train)\n",
        "\n",
        "# Make predictions on the testing data\n",
        "y_pred = svm.predict(X_test_scaled)\n",
        "\n",
        "# Calculate the accuracy of the classifier\n",
        "accuracy = accuracy_score(y_test, y_pred)\n",
        "\n",
        "# Print the accuracy of the classifier\n",
        "print(\"Accuracy:\", accuracy)"
      ]
    },
    {
      "cell_type": "markdown",
      "id": "066e1f8b",
      "metadata": {
        "id": "066e1f8b"
      },
      "source": [
        "Using RBF karnel\n"
      ]
    },
    {
      "cell_type": "code",
      "execution_count": null,
      "id": "5a260aac",
      "metadata": {
        "id": "5a260aac",
        "outputId": "de8f9b89-a6d7-4fa2-aa09-c0b6c20473ea"
      },
      "outputs": [
        {
          "name": "stdout",
          "output_type": "stream",
          "text": [
            "Accuracy: 0.5161290322580645\n"
          ]
        }
      ],
      "source": [
        "# Create SVM classifier with an RBF kernel\n",
        "svm = SVC(kernel='rbf')\n",
        "\n",
        "# Train the SVM classifier on the training data\n",
        "svm.fit(X_train_scaled, y_train)\n",
        "\n",
        "# Make predictions on the testing data\n",
        "y_pred = svm.predict(X_test_scaled)\n",
        "\n",
        "# Calculate the accuracy of the classifier\n",
        "accuracy = accuracy_score(y_test, y_pred)\n",
        "\n",
        "# Print the accuracy of the classifier\n",
        "print(\"Accuracy:\", accuracy)"
      ]
    },
    {
      "cell_type": "markdown",
      "id": "76ada612",
      "metadata": {
        "id": "76ada612"
      },
      "source": [
        "Grid search and cross validation"
      ]
    },
    {
      "cell_type": "code",
      "execution_count": null,
      "id": "4fc6a3c9",
      "metadata": {
        "id": "4fc6a3c9"
      },
      "outputs": [],
      "source": [
        "# Define parameter grid for grid search\n",
        "param_grid = {\n",
        "    'kernel': ['linear', 'rbf', 'poly'], \n",
        "    'C': [0.1, 1, 10], \n",
        "    'gamma': [0.1, 1, 10], \n",
        "    'degree': [2, 3, 4]\n",
        "}\n",
        "\n",
        "# Create SVM classifier\n",
        "svm = SVC()\n",
        "\n",
        "# Perform grid search to find the best hyperparameters\n",
        "grid_search = GridSearchCV(svm, param_grid, cv=5)\n",
        "grid_search.fit(X_train, y_train)\n",
        "\n",
        "# Print the best hyperparameters found by grid search\n",
        "print(\"Best hyperparameters:\", grid_search.best_params_)\n",
        "\n",
        "# Train the SVM classifier with the best hyperparameters on the training data\n",
        "best_svm = SVC(kernel=grid_search.best_params_['kernel'], C=grid_search.best_params_['C'], \n",
        "               gamma=grid_search.best_params_['gamma'], degree=grid_search.best_params_['degree'])\n",
        "best_svm.fit(X_train, y_train)\n",
        "\n",
        "# Make predictions on the testing data\n",
        "y_pred = best_svm.predict(X_test_scaled)\n",
        "\n",
        "# Calculate the accuracy of the classifier\n",
        "accuracy = accuracy_score(y_test, y_pred)\n",
        "\n",
        "# Print the accuracy of the classifier\n",
        "print(\"Accuracy:\", accuracy)"
      ]
    },
    {
      "cell_type": "code",
      "execution_count": null,
      "id": "0caadaf3",
      "metadata": {
        "id": "0caadaf3"
      },
      "outputs": [],
      "source": [
        "rf = RandomForestClassifier(n_estimators=100, random_state=42)"
      ]
    },
    {
      "cell_type": "code",
      "execution_count": null,
      "id": "70f41054",
      "metadata": {
        "id": "70f41054"
      },
      "outputs": [],
      "source": [
        "rf.fit(X_train_scaled, y_train)\n",
        "y_pred = rf.predict(X_test)\n",
        "accuracy = accuracy_score(y_test, y_pred)\n",
        "print('Accuracy:', accuracy)\n"
      ]
    }
  ],
  "metadata": {
    "kernelspec": {
      "display_name": "Python 3 (ipykernel)",
      "language": "python",
      "name": "python3"
    },
    "language_info": {
      "codemirror_mode": {
        "name": "ipython",
        "version": 3
      },
      "file_extension": ".py",
      "mimetype": "text/x-python",
      "name": "python",
      "nbconvert_exporter": "python",
      "pygments_lexer": "ipython3",
      "version": "3.9.13"
    },
    "colab": {
      "provenance": [],
      "include_colab_link": true
    }
  },
  "nbformat": 4,
  "nbformat_minor": 5
}